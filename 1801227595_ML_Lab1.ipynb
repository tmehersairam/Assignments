{
  "nbformat": 4,
  "nbformat_minor": 0,
  "metadata": {
    "colab": {
      "name": "1801227595_ML_Lab1.ipynb",
      "provenance": [],
      "collapsed_sections": [],
      "include_colab_link": true
    },
    "kernelspec": {
      "name": "python3",
      "display_name": "Python 3"
    }
  },
  "cells": [
    {
      "cell_type": "markdown",
      "metadata": {
        "id": "view-in-github",
        "colab_type": "text"
      },
      "source": [
        "<a href=\"https://colab.research.google.com/github/tmehersairam/Assignments/blob/main/1801227595_ML_Lab1.ipynb\" target=\"_parent\"><img src=\"https://colab.research.google.com/assets/colab-badge.svg\" alt=\"Open In Colab\"/></a>"
      ]
    },
    {
      "cell_type": "markdown",
      "metadata": {
        "id": "1OIJ71Dd_2Rm"
      },
      "source": [
        "Name: T Meher Sai Ram\r\n",
        "\r\n",
        "Group: 6 sem CSE \r\n",
        "\r\n",
        "Regd No: 1801227595\r\n",
        "\r\n",
        "ML lab\r\n",
        "\r\n",
        "ASSIGNMENT 1\r\n"
      ]
    },
    {
      "cell_type": "markdown",
      "metadata": {
        "id": "VQn5XWC9AHAs"
      },
      "source": [
        "Q1- To display about yourself (Name, branch, roll no, semester, department, college name) whereyou show different types of comment line including the new line."
      ]
    },
    {
      "cell_type": "code",
      "metadata": {
        "colab": {
          "base_uri": "https://localhost:8080/"
        },
        "id": "OJnZG-eBAYIo",
        "outputId": "1e30e206-8aad-4b8f-d8c6-01f354477c41"
      },
      "source": [
        "print(\"Name : T Meher Sai Ram\")\r\n",
        "print(\"Branch : CSE\")\r\n",
        "print(\"Semester : 6\")\r\n",
        "print(\"Department : Computer Science And Engineering\")\r\n",
        "print(\"College Name : C.V. Raman Global University\")"
      ],
      "execution_count": 1,
      "outputs": [
        {
          "output_type": "stream",
          "text": [
            "Name : T Meher Sai Ram\n",
            "Branch : CSE\n",
            "Semester : 6\n",
            "Department : Computer Science And Engineering\n",
            "College Name : C.V. Raman Global University\n"
          ],
          "name": "stdout"
        }
      ]
    },
    {
      "cell_type": "markdown",
      "metadata": {
        "id": "LhbJcgb2AkA1"
      },
      "source": [
        "Q2- Initialize two variables and to show the result of addition, multiplication, subtraction, division,modulus and exponent."
      ]
    },
    {
      "cell_type": "code",
      "metadata": {
        "colab": {
          "base_uri": "https://localhost:8080/"
        },
        "id": "T0ii3zJ8AjAO",
        "outputId": "384db28c-76b1-4018-c6ae-e66ccf62265f"
      },
      "source": [
        "a, b = 14, 7\r\n",
        "print(a+b)\r\n",
        "print(a-b)\r\n",
        "print(a*b)\r\n",
        "print(a/b)\r\n",
        "print(a%b)\r\n",
        "print(a ** b)"
      ],
      "execution_count": null,
      "outputs": [
        {
          "output_type": "stream",
          "text": [
            "21\n",
            "7\n",
            "98\n",
            "2.0\n",
            "0\n",
            "105413504\n"
          ],
          "name": "stdout"
        }
      ]
    },
    {
      "cell_type": "markdown",
      "metadata": {
        "id": "jkcFTU6OAtJE"
      },
      "source": [
        "Q3- To show all the arithmetic operations by taking the input from the keyboard."
      ]
    },
    {
      "cell_type": "code",
      "metadata": {
        "colab": {
          "base_uri": "https://localhost:8080/"
        },
        "id": "CeFAFOCZAv8W",
        "outputId": "6ad2f47c-9e93-4ab6-fbd3-68f46f550dff"
      },
      "source": [
        "a = int(input(\"Enter a : \"))\r\n",
        "b = int(input(\"Enter b : \"))\r\n",
        "print(a+b)\r\n",
        "print(a-b)\r\n",
        "print(a*b)\r\n",
        "print(a/b)\r\n",
        "print(a%b)\r\n",
        "print(a+b)"
      ],
      "execution_count": null,
      "outputs": [
        {
          "output_type": "stream",
          "text": [
            "Enter a : 115\n",
            "Enter b : 15\n",
            "130\n",
            "100\n",
            "1725\n",
            "7.666666666666667\n",
            "10\n",
            "130\n"
          ],
          "name": "stdout"
        }
      ]
    },
    {
      "cell_type": "markdown",
      "metadata": {
        "id": "-nEt5uEHA3P9"
      },
      "source": [
        "Q4- Convert the value from Celsius to Fahrenheit"
      ]
    },
    {
      "cell_type": "code",
      "metadata": {
        "colab": {
          "base_uri": "https://localhost:8080/"
        },
        "id": "gTfAgXoyA6yV",
        "outputId": "2a7d3342-df7c-4c77-883a-455a7f7d7d51"
      },
      "source": [
        "c = 37\r\n",
        "f = 9 / 5 * c + 32\r\n",
        "print(\"Celcius :\", c, \"Fahrenheit :\", f)"
      ],
      "execution_count": null,
      "outputs": [
        {
          "output_type": "stream",
          "text": [
            "Celcius : 37 Fahrenheit : 98.60000000000001\n"
          ],
          "name": "stdout"
        }
      ]
    },
    {
      "cell_type": "markdown",
      "metadata": {
        "id": "-6I9b-JqBH3_"
      },
      "source": [
        "Q5- Write a program to prompt the user for hours and rate per hour to compute gross pay.\r\n",
        "Enter Hours: 35 Enter Rate: 2.75"
      ]
    },
    {
      "cell_type": "code",
      "metadata": {
        "colab": {
          "base_uri": "https://localhost:8080/"
        },
        "id": "8mNgREw0BFhe",
        "outputId": "9ebfb7bc-11e3-4e1c-bdc6-361474cfcfe9"
      },
      "source": [
        "time = float(input(\"Enter time :\"))\r\n",
        "rate = float(input(\"Enter rate :\"))\r\n",
        "print(\"Gross Pay :\", rate * time)"
      ],
      "execution_count": null,
      "outputs": [
        {
          "output_type": "stream",
          "text": [
            "Enter time :35\n",
            "Enter rate :2.75\n",
            "Gross Pay : 96.25\n"
          ],
          "name": "stdout"
        }
      ]
    },
    {
      "cell_type": "markdown",
      "metadata": {
        "id": "h3KH7I2fBjV8"
      },
      "source": [
        "Q6- To see the data type of variables."
      ]
    },
    {
      "cell_type": "code",
      "metadata": {
        "colab": {
          "base_uri": "https://localhost:8080/"
        },
        "id": "xJ1Oyqn3BkDN",
        "outputId": "f8f26c54-d970-48b8-f4e1-73cb7b895b72"
      },
      "source": [
        "a = 5.86\r\n",
        "print(type(a))\r\n",
        "a = \"Bellatrix\"\r\n",
        "print(type(a))"
      ],
      "execution_count": null,
      "outputs": [
        {
          "output_type": "stream",
          "text": [
            "<class 'float'>\n",
            "<class 'str'>\n"
          ],
          "name": "stdout"
        }
      ]
    },
    {
      "cell_type": "markdown",
      "metadata": {
        "id": "idvmbHgDBuPo"
      },
      "source": [
        "Q7- Find the area and perimeter of triangle, circle and square."
      ]
    },
    {
      "cell_type": "code",
      "metadata": {
        "colab": {
          "base_uri": "https://localhost:8080/"
        },
        "id": "WXawYDsIBtSx",
        "outputId": "1b3b0b31-056e-44ca-e1db-e9eaee63b07c"
      },
      "source": [
        "import math\r\n",
        "print(\"Enter sides of triangle\")\r\n",
        "a = float(input())\r\n",
        "b = float(input())\r\n",
        "c = float(input())\r\n",
        "print(\"Perimeter of triangle :\", a + b + c)\r\n",
        "r = float(input(\"Enter radius of circle:\"))\r\n",
        "print(\"Perimeter of circle :\", 2 * math.pi * r)\r\n",
        "s = float(input(\"Enter side of square:\"))\r\n",
        "print(\"Perimeter of square:\", 4 * s)"
      ],
      "execution_count": null,
      "outputs": [
        {
          "output_type": "stream",
          "text": [
            "Enter sides of triangle\n",
            "20\n",
            "12\n",
            "12\n",
            "Perimeter of triangle : 44.0\n",
            "Enter radius of circle:3.64\n",
            "Perimeter of circle : 22.870794518133696\n",
            "Enter side of square:5.24\n",
            "Perimeter of square: 20.96\n"
          ],
          "name": "stdout"
        }
      ]
    },
    {
      "cell_type": "markdown",
      "metadata": {
        "id": "tZVnasHyCAm6"
      },
      "source": [
        "Q8- Write a program to swap two numbers."
      ]
    },
    {
      "cell_type": "code",
      "metadata": {
        "colab": {
          "base_uri": "https://localhost:8080/"
        },
        "id": "9um7P6ntCBav",
        "outputId": "5bf8bc6b-fec5-42c1-abac-d85093a6cfe2"
      },
      "source": [
        "a = int(input(\"Enter a : \"))\r\n",
        "b = int(input(\"Enter b : \"))\r\n",
        "a, b = b, a\r\n",
        "print(\"a :\", a, \"b :\", b)"
      ],
      "execution_count": null,
      "outputs": [
        {
          "output_type": "stream",
          "text": [
            "Enter a : 16\n",
            "Enter b : 23\n",
            "a : 23 b : 16\n"
          ],
          "name": "stdout"
        }
      ]
    },
    {
      "cell_type": "markdown",
      "metadata": {
        "id": "UstebhXUCLyi"
      },
      "source": [
        "Q9- To show the use of all the arithmetic operator"
      ]
    },
    {
      "cell_type": "code",
      "metadata": {
        "colab": {
          "base_uri": "https://localhost:8080/"
        },
        "id": "wCsiL9MoCM5T",
        "outputId": "0227c331-4fbd-4978-e900-9a2366dfa098"
      },
      "source": [
        "a = int(input(\"Enter a : \"))\r\n",
        "b = int(input(\"Enter b : \"))\r\n",
        "print(a+b)\r\n",
        "print(a-b)\r\n",
        "print(a*b)\r\n",
        "print(a/b)\r\n",
        "print(a%b)\r\n",
        "print(a ** b)"
      ],
      "execution_count": null,
      "outputs": [
        {
          "output_type": "stream",
          "text": [
            "Enter a : 89\n",
            "Enter b : 15\n",
            "104\n",
            "74\n",
            "1335\n",
            "5.933333333333334\n",
            "14\n",
            "174120577810999285787632895849\n"
          ],
          "name": "stdout"
        }
      ]
    },
    {
      "cell_type": "markdown",
      "metadata": {
        "id": "puZe8PnYCWyI"
      },
      "source": [
        "Q10- To show the use of all the assignment operators."
      ]
    },
    {
      "cell_type": "code",
      "metadata": {
        "colab": {
          "base_uri": "https://localhost:8080/"
        },
        "id": "kbgfwdooCXoT",
        "outputId": "c937eb15-d1ab-486e-b64a-f0ea1b59f6eb"
      },
      "source": [
        "a = 5\r\n",
        "b, c, d, e, f, g = 1, 1, 1, 1, 1, 1\r\n",
        "b += 3\r\n",
        "c -= 6\r\n",
        "d *= 7\r\n",
        "e /= 8\r\n",
        "f %= 5\r\n",
        "g **=4\r\n",
        "print(a, b, c, d, e, f, g)"
      ],
      "execution_count": null,
      "outputs": [
        {
          "output_type": "stream",
          "text": [
            "5 4 -5 7 0.125 1 1\n"
          ],
          "name": "stdout"
        }
      ]
    },
    {
      "cell_type": "markdown",
      "metadata": {
        "id": "xET9uZeHCn8I"
      },
      "source": [
        "Q11- To show the use of all the comparison/Relational operators."
      ]
    },
    {
      "cell_type": "code",
      "metadata": {
        "colab": {
          "base_uri": "https://localhost:8080/"
        },
        "id": "gVbTWQsGCnEG",
        "outputId": "6a0543ad-7bfb-4c5f-f8ea-1fd0c5086982"
      },
      "source": [
        "a, b = 6, 11\r\n",
        "print(a >= 5)\r\n",
        "print(a > 5)\r\n",
        "print(a <= b)\r\n",
        "print(a < 5)\r\n",
        "print(a == 5)"
      ],
      "execution_count": null,
      "outputs": [
        {
          "output_type": "stream",
          "text": [
            "True\n",
            "True\n",
            "True\n",
            "False\n",
            "False\n"
          ],
          "name": "stdout"
        }
      ]
    },
    {
      "cell_type": "markdown",
      "metadata": {
        "id": "JAWQhRq2Ctln"
      },
      "source": [
        "Q12- To show the use of all the logical operators."
      ]
    },
    {
      "cell_type": "code",
      "metadata": {
        "colab": {
          "base_uri": "https://localhost:8080/"
        },
        "id": "FsaKx3sMCwJ7",
        "outputId": "8fcac44e-bf19-4294-f01b-be9fef72c8c0"
      },
      "source": [
        "a = True\r\n",
        "b = False\r\n",
        "print(a and b)\r\n",
        "print(a or b)\r\n",
        "print(not b)"
      ],
      "execution_count": null,
      "outputs": [
        {
          "output_type": "stream",
          "text": [
            "False\n",
            "True\n",
            "True\n"
          ],
          "name": "stdout"
        }
      ]
    },
    {
      "cell_type": "markdown",
      "metadata": {
        "id": "IATIxaxqC1bz"
      },
      "source": [
        "Q13- To show the use of all the identity operators."
      ]
    },
    {
      "cell_type": "code",
      "metadata": {
        "colab": {
          "base_uri": "https://localhost:8080/"
        },
        "id": "brFqJf4DC2DR",
        "outputId": "c22ce549-7d6b-4b88-a806-68aec482babb"
      },
      "source": [
        "a, b = 5, 5.0\r\n",
        "print(a is b)\r\n",
        "print(a is not b)"
      ],
      "execution_count": null,
      "outputs": [
        {
          "output_type": "stream",
          "text": [
            "False\n",
            "True\n"
          ],
          "name": "stdout"
        }
      ]
    },
    {
      "cell_type": "markdown",
      "metadata": {
        "id": "oTRFD_ERDAVv"
      },
      "source": [
        "Q14- To show the use of all the membership operators."
      ]
    },
    {
      "cell_type": "code",
      "metadata": {
        "colab": {
          "base_uri": "https://localhost:8080/"
        },
        "id": "5yC4wm3zDB3P",
        "outputId": "939dd0ab-dd13-455b-c339-16d81f329a8d"
      },
      "source": [
        "a = [5, 6]\r\n",
        "print(5 in a)\r\n",
        "print(10 not in a)\r\n"
      ],
      "execution_count": null,
      "outputs": [
        {
          "output_type": "stream",
          "text": [
            "True\n",
            "True\n"
          ],
          "name": "stdout"
        }
      ]
    },
    {
      "cell_type": "markdown",
      "metadata": {
        "id": "wLU677jADLq6"
      },
      "source": [
        "Q15- To show the use of all the bitwise operators."
      ]
    },
    {
      "cell_type": "code",
      "metadata": {
        "colab": {
          "base_uri": "https://localhost:8080/"
        },
        "id": "LC8P6GNdDOGa",
        "outputId": "444c837e-ec74-48b5-c9c2-78993b6fd0bc"
      },
      "source": [
        "a, b = 5, 16\r\n",
        "print(a & b)\r\n",
        "print(a | b)\r\n",
        "print(a ^ b)\r\n",
        "print(~a)\r\n",
        "print(a << 2)\r\n",
        "print(a >> 2)"
      ],
      "execution_count": null,
      "outputs": [
        {
          "output_type": "stream",
          "text": [
            "0\n",
            "21\n",
            "21\n",
            "-6\n",
            "20\n",
            "1\n"
          ],
          "name": "stdout"
        }
      ]
    },
    {
      "cell_type": "markdown",
      "metadata": {
        "id": "6XsOfwDRDn9S"
      },
      "source": [
        "Q16- To show all the operation and methods related with immutable data type.\r\n",
        "\r\n",
        "ANS) An Immutable Data Types can’t be changed after it is created. like int, float, bool, string, unicode, tuple"
      ]
    },
    {
      "cell_type": "code",
      "metadata": {
        "colab": {
          "base_uri": "https://localhost:8080/",
          "height": 212
        },
        "id": "nx-8ugykD_7S",
        "outputId": "4054ccdc-6228-4191-8c66-ce237190408f"
      },
      "source": [
        "# tuples are immutable\r\n",
        "tuple1 = (8, 14, 29, 5,15)\r\n",
        "tuple1[0] = 17\r\n",
        "print(tuple1)"
      ],
      "execution_count": null,
      "outputs": [
        {
          "output_type": "error",
          "ename": "TypeError",
          "evalue": "ignored",
          "traceback": [
            "\u001b[0;31m---------------------------------------------------------------------------\u001b[0m",
            "\u001b[0;31mTypeError\u001b[0m                                 Traceback (most recent call last)",
            "\u001b[0;32m<ipython-input-23-f2268ab4ca1e>\u001b[0m in \u001b[0;36m<module>\u001b[0;34m()\u001b[0m\n\u001b[1;32m      1\u001b[0m \u001b[0;31m# tuples are immutable\u001b[0m\u001b[0;34m\u001b[0m\u001b[0;34m\u001b[0m\u001b[0;34m\u001b[0m\u001b[0m\n\u001b[1;32m      2\u001b[0m \u001b[0mtuple1\u001b[0m \u001b[0;34m=\u001b[0m \u001b[0;34m(\u001b[0m\u001b[0;36m8\u001b[0m\u001b[0;34m,\u001b[0m \u001b[0;36m14\u001b[0m\u001b[0;34m,\u001b[0m \u001b[0;36m29\u001b[0m\u001b[0;34m,\u001b[0m \u001b[0;36m5\u001b[0m\u001b[0;34m,\u001b[0m\u001b[0;36m15\u001b[0m\u001b[0;34m)\u001b[0m\u001b[0;34m\u001b[0m\u001b[0;34m\u001b[0m\u001b[0m\n\u001b[0;32m----> 3\u001b[0;31m \u001b[0mtuple1\u001b[0m\u001b[0;34m[\u001b[0m\u001b[0;36m0\u001b[0m\u001b[0;34m]\u001b[0m \u001b[0;34m=\u001b[0m \u001b[0;36m17\u001b[0m\u001b[0;34m\u001b[0m\u001b[0;34m\u001b[0m\u001b[0m\n\u001b[0m\u001b[1;32m      4\u001b[0m \u001b[0mprint\u001b[0m\u001b[0;34m(\u001b[0m\u001b[0mtuple1\u001b[0m\u001b[0;34m)\u001b[0m\u001b[0;34m\u001b[0m\u001b[0;34m\u001b[0m\u001b[0m\n",
            "\u001b[0;31mTypeError\u001b[0m: 'tuple' object does not support item assignment"
          ]
        }
      ]
    },
    {
      "cell_type": "code",
      "metadata": {
        "colab": {
          "base_uri": "https://localhost:8080/",
          "height": 212
        },
        "id": "6h-7SgzgEPNw",
        "outputId": "813aa2df-def4-4075-bf19-1c80756758c5"
      },
      "source": [
        "# strings are immutable\r\n",
        "message = \"Welcome to GeeksforGeeks\"\r\n",
        "message[0] = 'p'\r\n",
        "print(message)"
      ],
      "execution_count": null,
      "outputs": [
        {
          "output_type": "error",
          "ename": "TypeError",
          "evalue": "ignored",
          "traceback": [
            "\u001b[0;31m---------------------------------------------------------------------------\u001b[0m",
            "\u001b[0;31mTypeError\u001b[0m                                 Traceback (most recent call last)",
            "\u001b[0;32m<ipython-input-24-538d1318d984>\u001b[0m in \u001b[0;36m<module>\u001b[0;34m()\u001b[0m\n\u001b[1;32m      1\u001b[0m \u001b[0;31m# strings are immutable\u001b[0m\u001b[0;34m\u001b[0m\u001b[0;34m\u001b[0m\u001b[0;34m\u001b[0m\u001b[0m\n\u001b[1;32m      2\u001b[0m \u001b[0mmessage\u001b[0m \u001b[0;34m=\u001b[0m \u001b[0;34m\"Welcome to GeeksforGeeks\"\u001b[0m\u001b[0;34m\u001b[0m\u001b[0;34m\u001b[0m\u001b[0m\n\u001b[0;32m----> 3\u001b[0;31m \u001b[0mmessage\u001b[0m\u001b[0;34m[\u001b[0m\u001b[0;36m0\u001b[0m\u001b[0;34m]\u001b[0m \u001b[0;34m=\u001b[0m \u001b[0;34m'p'\u001b[0m\u001b[0;34m\u001b[0m\u001b[0;34m\u001b[0m\u001b[0m\n\u001b[0m\u001b[1;32m      4\u001b[0m \u001b[0mprint\u001b[0m\u001b[0;34m(\u001b[0m\u001b[0mmessage\u001b[0m\u001b[0;34m)\u001b[0m\u001b[0;34m\u001b[0m\u001b[0;34m\u001b[0m\u001b[0m\n",
            "\u001b[0;31mTypeError\u001b[0m: 'str' object does not support item assignment"
          ]
        }
      ]
    },
    {
      "cell_type": "markdown",
      "metadata": {
        "id": "B-v0_BVwEUNX"
      },
      "source": [
        "Q17- To show all the operation and methods related with mutable data type.\r\n",
        "\r\n",
        "ANS) Mutable Data Types are of type list, dict, set . Custom classes are generally mutable."
      ]
    },
    {
      "cell_type": "code",
      "metadata": {
        "colab": {
          "base_uri": "https://localhost:8080/"
        },
        "id": "BOQRX1DOEX5-",
        "outputId": "bbc77c2f-ec8b-450b-881d-42be2ba6f1f5"
      },
      "source": [
        "# lists are mutable\r\n",
        "color = [\"red\", \"blue\", \"green\"]\r\n",
        "print(color)\r\n",
        "color[0] = \"golden\"\r\n",
        "color[-1] = \"silver\"\r\n",
        "print(color)"
      ],
      "execution_count": null,
      "outputs": [
        {
          "output_type": "stream",
          "text": [
            "['red', 'blue', 'green']\n",
            "['golden', 'blue', 'silver']\n"
          ],
          "name": "stdout"
        }
      ]
    },
    {
      "cell_type": "code",
      "metadata": {
        "colab": {
          "base_uri": "https://localhost:8080/"
        },
        "id": "nldHkaF9Eli2",
        "outputId": "b4024d7d-3615-49d0-d95a-f22db4851efb"
      },
      "source": [
        "# DIct are mutable\r\n",
        "d = {\r\n",
        "'a': 'alpha',\r\n",
        "'b': 'bravo',\r\n",
        "'c': 'charlie',\r\n",
        "'d': 'delta',\r\n",
        "'e': 'echo'\r\n",
        "}\r\n",
        "print(id(d))\r\n",
        "d.update({\r\n",
        "    'f': 'foxtrot'\r\n",
        "})\r\n",
        "print(id(d))"
      ],
      "execution_count": null,
      "outputs": [
        {
          "output_type": "stream",
          "text": [
            "140710592687920\n",
            "140710592687920\n"
          ],
          "name": "stdout"
        }
      ]
    }
  ]
}