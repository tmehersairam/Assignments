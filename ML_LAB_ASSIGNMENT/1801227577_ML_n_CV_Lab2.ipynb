{
  "nbformat": 4,
  "nbformat_minor": 0,
  "metadata": {
    "colab": {
      "name": "1801227577 ML n CV Lab2.ipynb",
      "provenance": [],
      "collapsed_sections": []
    },
    "kernelspec": {
      "name": "python3",
      "display_name": "Python 3"
    }
  },
  "cells": [
    {
      "cell_type": "markdown",
      "metadata": {
        "id": "wnFoECy_g7mf"
      },
      "source": [
        "Name:Surjya Narayan Sahoo\r\n",
        "\r\n",
        "Group: 6 CSE \r\n",
        "\r\n",
        "Regd No: 1801227577\r\n",
        "\r\n",
        "ML and CV lab\r\n",
        "\r\n",
        "ASSIGNMENT 2\r\n"
      ]
    },
    {
      "cell_type": "markdown",
      "metadata": {
        "id": "t2ClgNEmmFN3"
      },
      "source": [
        "(Flow Control)\r\n",
        "1.\tTo show the largest number among three."
      ]
    },
    {
      "cell_type": "code",
      "metadata": {
        "colab": {
          "base_uri": "https://localhost:8080/"
        },
        "id": "8o4_mnsymLte",
        "outputId": "a0c91826-3abd-475d-f392-dff160faa39f"
      },
      "source": [
        "a=input(\"enter 1st number:\") \r\n",
        "b=input(\"enter 2nd number:\") \r\n",
        "c=input(\"enter 3rd number:\") \r\n",
        "if(a>b): \r\n",
        "  if(a>c): \r\n",
        "    print(a) \r\n",
        "  else:\r\n",
        "    if(b>c):\r\n",
        "      print(b)\r\n",
        "    else:\r\n",
        "        print(c)\r\n"
      ],
      "execution_count": null,
      "outputs": [
        {
          "output_type": "stream",
          "text": [
            "enter 1st number:15\n",
            "enter 2nd number:12\n",
            "enter 3rd number:11\n",
            "15\n"
          ],
          "name": "stdout"
        }
      ]
    },
    {
      "cell_type": "markdown",
      "metadata": {
        "id": "lqHqq5kMoEaE"
      },
      "source": [
        "2.\tTo show the student ‘Ram ‘is securing mark below the pass mark 30."
      ]
    },
    {
      "cell_type": "code",
      "metadata": {
        "colab": {
          "base_uri": "https://localhost:8080/"
        },
        "id": "jU_g5I8hoUNT",
        "outputId": "79bdec03-10c7-4b33-be6c-6209ac76cec9"
      },
      "source": [
        "a=int(input(\"Hey! Ram, enter your marks: \")) \r\n",
        "if(a<30): \r\n",
        "  print(\"your mark is below the pass mark 30\") \r\n",
        "else: \r\n",
        "  print(\"your mark is above the pass mark 30\")\r\n"
      ],
      "execution_count": null,
      "outputs": [
        {
          "output_type": "stream",
          "text": [
            "Hey! Ram, enter your marks: 45\n",
            "your mark is above the pass mark 30\n"
          ],
          "name": "stdout"
        }
      ]
    },
    {
      "cell_type": "markdown",
      "metadata": {
        "id": "J7Yrmhs7oHpU"
      },
      "source": [
        "3.\tTo show the lists of prime numbers from 0 to user input."
      ]
    },
    {
      "cell_type": "code",
      "metadata": {
        "colab": {
          "base_uri": "https://localhost:8080/"
        },
        "id": "dmSe4Nwpojad",
        "outputId": "1ad901be-4d9d-4c2e-fb06-dd35fdb1c1e6"
      },
      "source": [
        "n=int(input(\"enter range's last value in which you want prime numbers. \")) \r\n",
        "for x in range(2,n+1): \r\n",
        "  for y in range(2,x):\r\n",
        "    if(x%y==0):\r\n",
        "      break\r\n",
        "  else:\r\n",
        "        print(x,\" \")"
      ],
      "execution_count": null,
      "outputs": [
        {
          "output_type": "stream",
          "text": [
            "enter range's last value in which you want prime numbers. 20\n",
            "2  \n",
            "3  \n",
            "5  \n",
            "7  \n",
            "11  \n",
            "13  \n",
            "17  \n",
            "19  \n"
          ],
          "name": "stdout"
        }
      ]
    },
    {
      "cell_type": "markdown",
      "metadata": {
        "id": "YQLvUIOyoKHT"
      },
      "source": [
        "4.\tTo show that number is Armstrong number or not (for n numbers)."
      ]
    },
    {
      "cell_type": "code",
      "metadata": {
        "colab": {
          "base_uri": "https://localhost:8080/"
        },
        "id": "rf3atWUfrv2u",
        "outputId": "6d7cdf99-cbd9-496c-a6e8-3e8ec828145b"
      },
      "source": [
        "Number = int(input(\"\\nPlease Enter the Number to Check for Armstrong: \"))\r\n",
        "Sum = 0\r\n",
        "Times = 0\r\n",
        "Temp = Number\r\n",
        "while Temp > 0:\r\n",
        "           Times = Times + 1\r\n",
        "           Temp = Temp // 10\r\n",
        "Temp = Number\r\n",
        "while Temp > 0:\r\n",
        "           Reminder = Temp % 10\r\n",
        "           Sum = Sum + (Reminder ** Times)\r\n",
        "           Temp //= 10\r\n",
        "if Number == Sum:\r\n",
        "           print(\"\\n %d is Armstrong Number.\\n\" %Number)\r\n",
        "else:\r\n",
        "           print(\"\\n %d is Not a Armstrong Number.\\n\" %Number)"
      ],
      "execution_count": null,
      "outputs": [
        {
          "output_type": "stream",
          "text": [
            "\n",
            "Please Enter the Number to Check for Armstrong: 25\n",
            "\n",
            " 25 is Not a Armstrong Number.\n",
            "\n"
          ],
          "name": "stdout"
        }
      ]
    },
    {
      "cell_type": "markdown",
      "metadata": {
        "id": "VvDvsdz8oMO-"
      },
      "source": [
        "5.\tTo show that number is palindrome or not."
      ]
    },
    {
      "cell_type": "code",
      "metadata": {
        "colab": {
          "base_uri": "https://localhost:8080/"
        },
        "id": "r9eodRhIsN2X",
        "outputId": "e9fcf1e1-4187-4efd-d872-bde7377d4955"
      },
      "source": [
        "n=int(input(\"Enter number:\"))\r\n",
        "temp=n\r\n",
        "rev=0\r\n",
        "while(n>0):\r\n",
        "    dig=n%10\r\n",
        "    rev=rev*10+dig\r\n",
        "    n=n//10\r\n",
        "if(temp==rev):\r\n",
        "    print(\"The number is a palindrome!\")\r\n",
        "else:\r\n",
        "    print(\"The number isn't a palindrome!\")"
      ],
      "execution_count": null,
      "outputs": [
        {
          "output_type": "stream",
          "text": [
            "Enter number:121\n",
            "The number is a palindrome!\n"
          ],
          "name": "stdout"
        }
      ]
    },
    {
      "cell_type": "markdown",
      "metadata": {
        "id": "YGgXXMlBoPKr"
      },
      "source": [
        "6.\tTo show the Fibonacci series from 0 to user input."
      ]
    },
    {
      "cell_type": "code",
      "metadata": {
        "colab": {
          "base_uri": "https://localhost:8080/"
        },
        "id": "eBHA5dNKsuCm",
        "outputId": "e24c7d28-eff4-4364-de5d-d5c43fd581e2"
      },
      "source": [
        "n=int(input(\"enter number: \")) \r\n",
        "a=0\r\n",
        "b=1\r\n",
        "print(a) \r\n",
        "count=0\r\n",
        "while(count!=n):\r\n",
        "  nxt=a+b\r\n",
        "  print(nxt)\r\n",
        "  a=b\r\n",
        "  b=nxt\r\n",
        "  count+=1"
      ],
      "execution_count": null,
      "outputs": [
        {
          "output_type": "stream",
          "text": [
            "enter number: 6\n",
            "0\n",
            "1\n",
            "2\n",
            "3\n",
            "5\n",
            "8\n",
            "13\n"
          ],
          "name": "stdout"
        }
      ]
    },
    {
      "cell_type": "markdown",
      "metadata": {
        "id": "88yOb0TroRfb"
      },
      "source": [
        "7.\tPython program to find the factorial of a number provided by the user."
      ]
    },
    {
      "cell_type": "code",
      "metadata": {
        "colab": {
          "base_uri": "https://localhost:8080/"
        },
        "id": "j_t9UcxTstMN",
        "outputId": "ac3f7a8b-3a61-4fc9-dcf9-37084aa88c4c"
      },
      "source": [
        "num = int(input(\"Enter a number: \"))  \r\n",
        "factorial = 1  \r\n",
        "if num < 0:  \r\n",
        "   print(\"Sorry, factorial does not exist for negative numbers\")  \r\n",
        "elif num == 0:  \r\n",
        "   print(\"The factorial of 0 is 1\")  \r\n",
        "else:  \r\n",
        "   for i in range(1,num + 1):  \r\n",
        "       factorial = factorial*i  \r\n",
        "   print(\"The factorial of\",num,\"is\",factorial)  "
      ],
      "execution_count": null,
      "outputs": [
        {
          "output_type": "stream",
          "text": [
            "Enter a number: 5\n",
            "The factorial of 5 is 120\n"
          ],
          "name": "stdout"
        }
      ]
    },
    {
      "cell_type": "markdown",
      "metadata": {
        "id": "a-TFPsJDubKn"
      },
      "source": [
        "(Function)\r\n",
        "8.\tPython program to find the H.C.F of two input number.\r\n"
      ]
    },
    {
      "cell_type": "code",
      "metadata": {
        "colab": {
          "base_uri": "https://localhost:8080/"
        },
        "id": "Pqu-P2HQut6K",
        "outputId": "d252a0eb-21d3-43cf-b254-31728f5479dd"
      },
      "source": [
        "def hcf(x, y):  \r\n",
        "   if x > y:  \r\n",
        "       smaller = y  \r\n",
        "   else:  \r\n",
        "       smaller = x  \r\n",
        "   for i in range(1,smaller + 1):  \r\n",
        "       if((x % i == 0) and (y % i == 0)):  \r\n",
        "           hcf = i  \r\n",
        "   return hcf  \r\n",
        "  \r\n",
        "num1 = int(input(\"Enter first number: \"))  \r\n",
        "num2 = int(input(\"Enter second number: \"))  \r\n",
        "print(\"The H.C.F. of\", num1,\"and\", num2,\"is\", hcf(num1, num2))  "
      ],
      "execution_count": null,
      "outputs": [
        {
          "output_type": "stream",
          "text": [
            "Enter first number: 45\n",
            "Enter second number: 85\n",
            "The H.C.F. of 45 and 85 is 5\n"
          ],
          "name": "stdout"
        }
      ]
    },
    {
      "cell_type": "markdown",
      "metadata": {
        "id": "vLEIfFeJucfc"
      },
      "source": [
        "9.\tPython Program to find the L.C.M. of two input number.\r\n"
      ]
    },
    {
      "cell_type": "code",
      "metadata": {
        "colab": {
          "base_uri": "https://localhost:8080/"
        },
        "id": "575RC7X-vEwB",
        "outputId": "deb7da02-060f-44d4-dbda-58f6d00764a0"
      },
      "source": [
        "def compute_lcm(x, y):\r\n",
        "\r\n",
        "   # choose the greater number\r\n",
        "   if x > y:\r\n",
        "       greater = x\r\n",
        "   else:\r\n",
        "       greater = y\r\n",
        "\r\n",
        "   while(True):\r\n",
        "       if((greater % x == 0) and (greater % y == 0)):\r\n",
        "           lcm = greater\r\n",
        "           break\r\n",
        "       greater += 1\r\n",
        "\r\n",
        "   return lcm\r\n",
        "\r\n",
        "num1 = int(input(\"Enter 1st number\"))\r\n",
        "num2 = int(input(\"Enter 2nd number\"))\r\n",
        "print(\"The L.C.M. is\", compute_lcm(num1, num2))"
      ],
      "execution_count": null,
      "outputs": [
        {
          "output_type": "stream",
          "text": [
            "Enter 1st number45\n",
            "Enter 2nd number90\n",
            "The L.C.M. is 90\n"
          ],
          "name": "stdout"
        }
      ]
    },
    {
      "cell_type": "markdown",
      "metadata": {
        "id": "dtx4Gfijug0B"
      },
      "source": [
        "10.\tPython Program to find the factors of a number.\r\n"
      ]
    },
    {
      "cell_type": "code",
      "metadata": {
        "colab": {
          "base_uri": "https://localhost:8080/"
        },
        "id": "W_eN0Z-Kv98X",
        "outputId": "d82d20c1-a53e-476c-ee89-a0604ed06aff"
      },
      "source": [
        "def print_factors(x):\r\n",
        "   print(\"The factors of\",x,\"are:\")\r\n",
        "   for i in range(1, x + 1):\r\n",
        "       if x % i == 0:\r\n",
        "           print(i)\r\n",
        "\r\n",
        "num = int(input(\"Enter a number\"))\r\n",
        "\r\n",
        "print_factors(num)"
      ],
      "execution_count": null,
      "outputs": [
        {
          "output_type": "stream",
          "text": [
            "Enter a number27\n",
            "The factors of 27 are:\n",
            "1\n",
            "3\n",
            "9\n",
            "27\n"
          ],
          "name": "stdout"
        }
      ]
    },
    {
      "cell_type": "markdown",
      "metadata": {
        "id": "Jzp_W-qBukSY"
      },
      "source": [
        "11.\tTo find the area of circle, square, rectangle, triangle and sphere.\r\n"
      ]
    },
    {
      "cell_type": "code",
      "metadata": {
        "colab": {
          "base_uri": "https://localhost:8080/"
        },
        "id": "IIy4CSkQ77QI",
        "outputId": "ba9905fe-f0c6-4746-9c1d-cebcb6286264"
      },
      "source": [
        "def calculate_area(name):\r\n",
        "    \r\n",
        "  # converting all characters \r\n",
        "  # into lower cases \r\n",
        "  name = name.lower() \r\n",
        "    \r\n",
        "  # check for the conditions \r\n",
        "  if name == \"rectangle\": \r\n",
        "    l = int(input(\"Enter rectangle's length: \")) \r\n",
        "    b = int(input(\"Enter rectangle's breadth: \")) \r\n",
        "      \r\n",
        "    # calculate area of rectangel \r\n",
        "    rect_area = l * b \r\n",
        "    print(f\"The area of rectangle is{rect_area}.\") \r\n",
        "    \r\n",
        "  elif name == \"square\": \r\n",
        "    s = int(input(\"Enter square's side length: \")) \r\n",
        "        \r\n",
        "    # calculate area of square \r\n",
        "    sqt_area = s * s \r\n",
        "    print(f\"The area of square is {sqt_area}.\") \r\n",
        "  \r\n",
        "  elif name == \"triangle\": \r\n",
        "    h = int(input(\"Enter triangle's height length: \")) \r\n",
        "    b = int(input(\"Enter triangle's breadth length: \")) \r\n",
        "        \r\n",
        "    # calculate area of triangle \r\n",
        "    tri_area = 0.5 * b * h \r\n",
        "    print(f\"The area of triangle is {tri_area}.\") \r\n",
        "  \r\n",
        "  elif name == \"circle\": \r\n",
        "    r = int(input(\"Enter circle's radius length: \")) \r\n",
        "    pi = 3.14\r\n",
        "          \r\n",
        "    # calculate area of circle \r\n",
        "    circ_area = pi * r * r \r\n",
        "    print(f\"The area of triangle is {circ_area}.\") \r\n",
        "          \r\n",
        "  elif name == 'parallelogram': \r\n",
        "    b = int(input(\"Enter parallelogram's base length: \")) \r\n",
        "    h = int(input(\"Enter parallelogram's height length: \")) \r\n",
        "      \r\n",
        "    # calculate area of parallelogram \r\n",
        "    para_area = b * h \r\n",
        "    print(f\"The area of parallelogram is {para_area}.\") \r\n",
        "      \r\n",
        "  else: \r\n",
        "    print(\"Sorry! This shape is not availabel\") \r\n",
        "  \r\n",
        "# driver code \r\n",
        "if __name__ == \"__main__\" : \r\n",
        "    \r\n",
        "  print(\"Calculate Shape Area\") \r\n",
        "  shape_name = input(\"Enter the name of shape whose area you want to find: \") \r\n",
        "    \r\n",
        "  # function calling \r\n",
        "  calculate_area(shape_name)"
      ],
      "execution_count": null,
      "outputs": [
        {
          "output_type": "stream",
          "text": [
            "Calculate Shape Area\n",
            "Enter the name of shape whose area you want to find: circle\n",
            "Enter circle's radius length: 5\n",
            "The area of triangle is 78.5.\n"
          ],
          "name": "stdout"
        }
      ]
    },
    {
      "cell_type": "markdown",
      "metadata": {
        "id": "QmwN23v02ifF"
      },
      "source": [
        "12.\tWrite a Python program to read an entire text file\r\n",
        "\r\n",
        "f =open(\"demofile.txt\", \"rt\")\r\n",
        "\r\n",
        "print(f.read()) \r\n",
        "\r\n",
        "f.close()\r\n",
        "\r\n",
        "India, officially the Republic of India, is a country in South Asia.\r\n",
        "It is the second-most populous country, \r\n",
        "the seventh-largest country by land area, \r\n",
        "and the most populous democracy in the world.\r\n",
        "It is the best country in the world :) . \r\n"
      ]
    },
    {
      "cell_type": "markdown",
      "metadata": {
        "id": "47h1oXRY2_p3"
      },
      "source": [
        "13.\tWrite a Python program to read last n lines of a file.\r\n",
        "\r\n",
        "n=int(input(\"Enter number of lines u want to read of a file:\\n \")) \r\n",
        "\r\n",
        "f=open(\"./demofile.txt\",\"rt\") \r\n",
        "\r\n",
        "for line in (f.readlines() [-n:]):  \r\n",
        "\r\n",
        "print(line, end ='') \r\n",
        "\r\n",
        "f.close()\r\n",
        "\r\n",
        "Enter number of lines u want to read of a file:\r\n",
        " 3\r\n",
        "the seventh-largest country by land area, \r\n",
        "and the most populous democracy in the world.\r\n",
        "It is the best country in the world :) . \r\n",
        "\r\n"
      ]
    },
    {
      "cell_type": "markdown",
      "metadata": {
        "id": "W14NtMlo3XUb"
      },
      "source": [
        "14.\tWrite a Python program to read a file line by line and store it into a list.\r\n",
        "\r\n",
        "l=[ ] \r\n",
        "\r\n",
        "f =open(\"demofile.txt\", \"rt\") \r\n",
        "\r\n",
        "for x in f.readlines(): \r\n",
        "\r\n",
        "  l.append(x) \r\n",
        "\r\n",
        "f.close() \r\n",
        "\r\n",
        "print(l)\r\n",
        "\r\n",
        "['India, officially the Republic of India, is a country in South Asia.\\n', 'It is the second-most populous country, \\n', 'the seventh-largest country by land area, \\n', 'and the most populous democracy in the world.\\n', 'It is the best country in the world :) . ']\r\n"
      ]
    },
    {
      "cell_type": "markdown",
      "metadata": {
        "id": "bQsS7qqF3jO8"
      },
      "source": [
        "15.\tWrite a Python program to read a file line by line store it into a variable.\r\n",
        "\r\n",
        "a=\"\"\r\n",
        "\r\n",
        "f =open(\"demofile.txt\", \"rt\") \r\n",
        "\r\n",
        "for x in f.readlines(): \r\n",
        "\r\n",
        "  a+=(x) \r\n",
        "\r\n",
        "f.close() \r\n",
        "\r\n",
        "print(l)\r\n",
        "\r\n",
        "['India, officially the Republic of India, is a country in South Asia.\\n', 'It is the second-most populous country, \\n', 'the seventh-largest country by land area, \\n', 'and the most populous democracy in the world.\\n', 'It is the best country in the world :) .]\r\n"
      ]
    },
    {
      "cell_type": "markdown",
      "metadata": {
        "id": "QowKno_d3qyx"
      },
      "source": [
        "16.\tWrite a Python program to read a file line by line store it into an array.\r\n",
        "\r\n",
        "import numpy as np \r\n",
        "\r\n",
        "a=np.array([\"\"]) \r\n",
        "\r\n",
        "i=0\r\n",
        "\r\n",
        "f =open(\"demofile.txt\", \"rt\") \r\n",
        "\r\n",
        "for x in f.readlines(): \r\n",
        "\r\n",
        "  a[0]=x \r\n",
        "\r\n",
        "  i+=1\r\n",
        "\r\n",
        "f.close() \r\n",
        "\r\n",
        "print(l)\r\n",
        "\r\n",
        "['India, officially the Republic of India, is a country in South Asia.\\n', 'It is the second-most populous country, \\n', 'the seventh-largest country by land area, \\n', 'and the most populous democracy in the world.\\n', 'It is the best country in the world :) .]\r\n"
      ]
    },
    {
      "cell_type": "markdown",
      "metadata": {
        "id": "2SZITcFV31aO"
      },
      "source": [
        "17.\tWrite a python program to find the longest words.\r\n",
        "\r\n",
        "f=open(\"./demofile.txt\",\"rt\") \r\n",
        "\r\n",
        "words = f.read().split() \r\n",
        "\r\n",
        "max_len =len(max(words, key=len)) \r\n",
        "\r\n",
        "print(max_len) \r\n",
        "\r\n",
        "a=[word for word in words iflen(word) == max_len] \r\n",
        "\r\n",
        "print(a)\r\n",
        "\r\n",
        "15\r\n",
        "\r\n",
        "['seventh-largest']\r\n"
      ]
    },
    {
      "cell_type": "markdown",
      "metadata": {
        "id": "HB3sUIRn4CJG"
      },
      "source": [
        "18.\tWrite a Python program to count the number of lines in a text file.\r\n",
        "\r\n",
        "f=open(\"./demofile.txt\",\"rt\") \r\n",
        "\r\n",
        "c=0\r\n",
        "\r\n",
        "for x in f: \r\n",
        "\r\n",
        "  c+=1\r\n",
        "\r\n",
        "print(c)\r\n",
        "\r\n",
        "5"
      ]
    },
    {
      "cell_type": "markdown",
      "metadata": {
        "id": "zgLCKsWL4H1o"
      },
      "source": [
        "19.\tWrite a Python program to count the frequency of words in a file.\r\n",
        "\r\n",
        "from collections import Counter \r\n",
        "\r\n",
        "f=open(\"./demofile.txt\",\"rt\") \r\n",
        "\r\n",
        "a=Counter(f.read().split()) \r\n",
        "\r\n",
        "print(a)\r\n",
        "\r\n",
        "\r\n",
        "Counter({'the': 7, 'is': 3, 'country': 3, 'in': 3, 'India,': 2, 'It': 2, 'populous': 2, 'officially': 1, 'Republic': 1, 'of': 1, 'a': 1, 'South': 1, 'Asia.': 1, 'second-most': 1, 'country,': 1, 'seventh-largest': 1, 'by': 1, 'land': 1, 'area,': 1, 'and': 1, 'most': 1, 'democracy': 1, 'world.': 1, 'best': 1, 'world': 1, ':)': 1, '.': 1})\r\n",
        "\r\n"
      ]
    },
    {
      "cell_type": "markdown",
      "metadata": {
        "id": "VVvRutc84ZVP"
      },
      "source": [
        "20.\tWrite a Python program to get the file size of a plain file.\r\n",
        "\r\n",
        "import os \r\n",
        "\r\n",
        "statinfo = os.stat(\"./demofile.txt\") \r\n",
        "\r\n",
        "statinfo2=os.stat(\"./sample_data/mnist_train_small.csv\") \r\n",
        "\r\n",
        "print(\"size of the 1st file in bytes:\",statinfo.st_size)\r\n",
        "\r\n",
        "print(\"size of the 2nd file in bytes:\",statinfo2.st_size)\r\n",
        "\r\n",
        "size of the 1st file in bytes: 240\r\n",
        "\r\n",
        "size of the 2nd file in bytes: 36523880\r\n"
      ]
    },
    {
      "cell_type": "markdown",
      "metadata": {
        "id": "eVVteaj14muG"
      },
      "source": [
        "21.\tWrite a Python program to write a list to a file.\r\n",
        "\r\n",
        "f=open(\"./demofile.txt\",\"at\") \r\n",
        "\r\n",
        "islands = ['Barren Island\tAndaman Islands','Narcondam\tAndaman Islands',\r\n",
        "'Baratang\tAndaman Islands','Deccan Traps\tMaharashtra','Dhinodhar Hills\tGujarat','Dhosi Hill Haryana'] \r\n",
        "f.write(\"\\n\\nList of volcanoes in india: \")\r\n",
        "\r\n",
        "for i in islands: \r\n",
        "\r\n",
        "  f.write(\"\\n%s\"% i) \r\n",
        "\r\n",
        "f.close() \r\n",
        "\r\n",
        "f=open(\"./demofile.txt\",\"rt\") \r\n",
        "\r\n",
        "print(f.read()) \r\n",
        "\r\n",
        "f.close()\r\n",
        "\r\n",
        "India, officially the Republic of India, is a country in South Asia.\r\n",
        "It is the second-most populous country, \r\n",
        "the seventh-largest country by land area, \r\n",
        "and the most populous democracy in the world.\r\n",
        "It is the best country in the world :) .\r\n",
        "\r\n",
        "List of volcanoes in india: \r\n",
        "Barren Island\tAndaman Islands\r\n",
        "Narcondam\tAndaman Islands\r\n",
        "Baratang\tAndaman Islands\r\n",
        "Deccan Traps\tMaharashtra\r\n",
        "Dhinodhar Hills\tGujarat\r\n",
        "Dhosi Hill Haryana\r\n"
      ]
    },
    {
      "cell_type": "markdown",
      "metadata": {
        "id": "vQz-PkVX4yyW"
      },
      "source": [
        "22.\tWrite a Python program to copy the contents of a file to another file.\r\n",
        "\r\n",
        "from shutil import copyfile \r\n",
        "\r\n",
        "copyfile('./demofile.txt', './demofile2.txt')\r\n",
        "\r\n",
        "{\"type\":\"string\"}\r\n",
        "\r\n",
        "\r\n"
      ]
    },
    {
      "cell_type": "markdown",
      "metadata": {
        "id": "4dSB-dAY5EOZ"
      },
      "source": [
        "23.\tWrite a Python program to combine each line from first file with the corresponding line in second file.\r\n",
        "\r\n",
        "withopen('demofile.txt') as fh1, open('demofile2.txt') as fh2: \r\n",
        "\r\n",
        "for line1, line2 inzip(fh1, fh2): \r\n",
        "\r\n",
        "print(line1+line2) \r\n",
        "\t\t\r\n",
        "India, officially the Republic of India, is a country in South Asia.\r\n",
        "India, officially the Republic of India, is a country in South Asia.\r\n",
        "\r\n",
        "It is the second-most populous country, \r\n",
        "It is the second-most populous country, \r\n",
        "\r\n",
        "the seventh-largest country by land area, \r\n",
        "the seventh-largest country by land area, \r\n",
        "\r\n",
        "and the most populous democracy in the world.\r\n",
        "and the most populous democracy in the world.\r\n",
        "\r\n",
        "It is the best country in the world :) .\r\n",
        "It is the best country in the world :) .\r\n",
        "\r\n",
        "\r\n",
        "\r\n",
        "\r\n",
        "List of volcanoes in india: \r\n",
        "List of volcanoes in india: \r\n",
        "\r\n",
        "Barren Island\tAndaman Islands\r\n",
        "Barren Island\tAndaman Islands\r\n",
        "\r\n",
        "Narcondam\tAndaman Islands\r\n",
        "Narcondam\tAndaman Islands\r\n",
        "\r\n",
        "Baratang\tAndaman Islands\r\n",
        "Baratang\tAndaman Islands\r\n",
        "\r\n",
        "Deccan Traps\tMaharashtra\r\n",
        "Deccan Traps\tMaharashtra\r\n",
        "\r\n",
        "Dhinodhar Hills\tGujarat\r\n",
        "Dhinodhar Hills\tGujarat\r\n",
        "\r\n",
        "Dhosi Hill HaryanaDhosi Hill Haryana"
      ]
    },
    {
      "cell_type": "markdown",
      "metadata": {
        "id": "GpHNOnDu5J6P"
      },
      "source": [
        "25.\tWrite a Python program to read a random line from a file.\r\n",
        "\r\n",
        "import random \r\n",
        "\r\n",
        "lines =open(\"demofile.txt\").read().splitlines() \r\n",
        "\r\n",
        "a=random.choice(lines) \r\n",
        "\r\n",
        "print(a)\r\n",
        "\r\n",
        "It is the second-most populous country, \r\n"
      ]
    },
    {
      "cell_type": "markdown",
      "metadata": {
        "id": "ZV-vMA0V5SNY"
      },
      "source": [
        "27.\tWrite a Python program to assess or find if a file is closed or not.\r\n",
        "\r\n",
        "f =open('demofile.txt','rt') \r\n",
        "\r\n",
        "print(f.closed) \r\n",
        "\r\n",
        "f.close() \r\n",
        "\r\n",
        "print(f.closed)\r\n",
        "\r\n",
        "False\r\n",
        "\r\n",
        "True\r\n"
      ]
    },
    {
      "cell_type": "markdown",
      "metadata": {
        "id": "zZ8m6-6L5avd"
      },
      "source": [
        "28.\tWrite a Python program to remove newline characters from a file.\r\n",
        "\r\n",
        "f =open(\"demofile.txt\").readlines()\r\n",
        "\r\n",
        "a= [s.rstrip('\\n') for s in f] \r\n",
        "\r\n",
        "print(a) \r\n",
        "\r\n",
        "['India, officially the Republic of India, is a country in South Asia.', 'It is the second-most populous country, ', 'the seventh-largest country by land area, ', 'and the most populous democracy in the world.', 'It is the best country in the world :) .', '', 'List of volcanoes in india: ', 'Barren Island\\tAndaman Islands', 'Narcondam\\tAndaman Islands', 'Baratang\\tAndaman Islands', 'Deccan Traps\\tMaharashtra', 'Dhinodhar Hills\\tGujarat', 'Dhosi Hill Haryana']\r\n"
      ]
    }
  ]
}